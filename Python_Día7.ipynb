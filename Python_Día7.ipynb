{
  "nbformat": 4,
  "nbformat_minor": 0,
  "metadata": {
    "colab": {
      "provenance": [],
      "authorship_tag": "ABX9TyPnYfkvA0sO3pCWAXWLoto0",
      "include_colab_link": true
    },
    "kernelspec": {
      "name": "python3",
      "display_name": "Python 3"
    },
    "language_info": {
      "name": "python"
    }
  },
  "cells": [
    {
      "cell_type": "markdown",
      "metadata": {
        "id": "view-in-github",
        "colab_type": "text"
      },
      "source": [
        "<a href=\"https://colab.research.google.com/github/Czeu/Notas_Data_Science/blob/main/Python_D%C3%ADa7.ipynb\" target=\"_parent\"><img src=\"https://colab.research.google.com/assets/colab-badge.svg\" alt=\"Open In Colab\"/></a>"
      ]
    },
    {
      "cell_type": "markdown",
      "source": [
        "## Pregunta 20\n",
        "\n",
        "> Defina una clase con un generador que puede iterar los números, los cuales son divisibles por 7. Dentro de un rango dado, desde 0 hasta n.\n",
        "\n",
        "La clase debe tener un método que pueda devolver un generador con los números divisibles por siete en el rango que se dé. Para eso se devuelve el generador con `yield`.\n",
        "\n",
        "Un Generador es un iterador, una clase de iterable que solo lo hace una vez. La primera vez que `for` llama al objeto generador creado por su función, lo corre de principio a fin.\n"
      ],
      "metadata": {
        "id": "T_ynIPL0goXI"
      }
    },
    {
      "cell_type": "code",
      "execution_count": null,
      "metadata": {
        "id": "egmPwP5VZ--g"
      },
      "outputs": [],
      "source": [
        "class Divisible:\n",
        "  def divisible7(self, n):\n",
        "    for numero in range(n + 1):\n",
        "      if numero % 7 == 0:\n",
        "        yield numero\n",
        "\n",
        "numero = input()\n",
        "divisible = Divisible()\n",
        "generador = divisible.divisible7(int(numero))\n",
        "for i in generador:\n",
        "  print(i)\n",
        "for i in generador:\n",
        "  print(i)"
      ]
    },
    {
      "cell_type": "code",
      "source": [
        "generador"
      ],
      "metadata": {
        "colab": {
          "base_uri": "https://localhost:8080/"
        },
        "id": "ht2pZBV5gPVc",
        "outputId": "64d1c424-00f6-4eff-a5ec-1601c5b4b50c"
      },
      "execution_count": null,
      "outputs": [
        {
          "output_type": "execute_result",
          "data": {
            "text/plain": [
              "<generator object Divisible.divisible7 at 0x7fc067ec6ed0>"
            ]
          },
          "metadata": {},
          "execution_count": 3
        }
      ]
    },
    {
      "cell_type": "markdown",
      "source": [
        "## Pregunta 21 \n",
        "\n",
        "> Un robot se mueve en un plano, iniciando desde el punto origen (0, 0). El robot puede moverse en las direcciones UP, DOWN, LEFT y RIGHT (arriba, abajo, izquierda y derecha) con un número de pasos. Una ruta seguida por el robot se muestra a continuación:\n",
        "\n",
        "\n",
        "*   UP 5\n",
        "*   DOWN 3\n",
        "*   LEFT 3\n",
        "*   RIGHT 2\n",
        "\n",
        "\n",
        "> Los números después de la dirección son pasos. Escriba un programa para calcular la distancia desde la posición actual después de una secuencia de movimiento y punto original. Si la distancia es un flotante, simplemente imprima el entero más cercano. Ejemplo: Si se dan las distancias anteriores entonces el resultado debe ser 2. \n",
        "\n",
        "Es muy similar al programa de la cuenta bancaria, solo que ahora se llevaran dos cuentas, una para cada eje. Entonces se calculará la norma del vector resultante, usando Pitágoras. "
      ],
      "metadata": {
        "id": "SOTOu5pWh6SA"
      }
    },
    {
      "cell_type": "code",
      "source": [
        "from math import sqrt # Para poder usar la raiz cuadrada\n",
        "x, y =  0, 0 # La posición original\n",
        "while True: \n",
        "  movimiento = input().split()\n",
        "  if not movimiento:\n",
        "    break # Rompemos el ciclo si no se recive un string\n",
        "  if movimiento[0] == \"UP\":  \n",
        "      x -= int(movimiento[1])\n",
        "  if movimiento[0] == \"DOWN\":\n",
        "      x += int(movimiento[1])\n",
        "  if movimiento[0] == \"LEFT\":\n",
        "      y -= int(movimiento[1])\n",
        "  if movimiento[0] == \"RIGHT\":\n",
        "      y += int(movimiento[1])\n",
        "distancia = round(sqrt(x**2 + y**2))\n",
        "print(distancia)"
      ],
      "metadata": {
        "id": "FsFoayusgXZ4"
      },
      "execution_count": null,
      "outputs": []
    },
    {
      "cell_type": "code",
      "source": [],
      "metadata": {
        "id": "NQR4px6YpxDa"
      },
      "execution_count": null,
      "outputs": []
    }
  ]
}