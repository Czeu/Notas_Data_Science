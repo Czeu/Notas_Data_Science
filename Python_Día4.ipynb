{
  "nbformat": 4,
  "nbformat_minor": 0,
  "metadata": {
    "colab": {
      "provenance": [],
      "authorship_tag": "ABX9TyMERJ+MSYOEcN8XWQ1OheV+",
      "include_colab_link": true
    },
    "kernelspec": {
      "name": "python3",
      "display_name": "Python 3"
    },
    "language_info": {
      "name": "python"
    }
  },
  "cells": [
    {
      "cell_type": "markdown",
      "metadata": {
        "id": "view-in-github",
        "colab_type": "text"
      },
      "source": [
        "<a href=\"https://colab.research.google.com/github/Czeu/Notas_Data_Science/blob/main/Python_D%C3%ADa4.ipynb\" target=\"_parent\"><img src=\"https://colab.research.google.com/assets/colab-badge.svg\" alt=\"Open In Colab\"/></a>"
      ]
    },
    {
      "cell_type": "markdown",
      "source": [
        "## Pregunta 14\n",
        "\n",
        "\n",
        "\n",
        "> Escriba un programa que acepte una oración y calcule el número de letras mayúsculas y minúsculas. Suponga que se introduce: “Hola Mundo!”. Entonces, la salida debe ser: UPPER CASE 1, LOWER CASE 9\n",
        "\n",
        "Investigando podemos encontrar la función isupper() y islower() que nos devuelven True o False, lo que nos puede permitir llevar el conteo. Por otro lado, está alternativa de englobar los valores como un rango numérico, es decir, aprovechar que el valor ASCII, por lo que se necesita la función ord(). Aunque la lógica también funciona sin convertir las letras.\n",
        "\n"
      ],
      "metadata": {
        "id": "UuEjl_Iq6IJQ"
      }
    },
    {
      "cell_type": "code",
      "source": [
        "palabras = input()\n",
        "upper, lower = 0, 0\n",
        "for i in palabras:\n",
        "  if i.isupper():\n",
        "    upper += 1\n",
        "  elif i.islower():\n",
        "    lower += 1\n",
        "print(f\"UPPER {upper} \\nLOWER {lower}\")"
      ],
      "metadata": {
        "id": "5pKVIBJE7vRY"
      },
      "execution_count": null,
      "outputs": []
    },
    {
      "cell_type": "code",
      "source": [
        "## Alternativamente sin usar isupper() o islower()\n",
        "palabras = input()\n",
        "upper, lower = 0, 0\n",
        "for i in palabras:\n",
        "  if \"A\" <= i <= \"Z\":\n",
        "    upper += 1\n",
        "  elif \"a\" <= i <= \"z\":\n",
        "    lower += 1\n",
        "print(f\"UPPER {upper} \\nLOWER {lower}\")"
      ],
      "metadata": {
        "id": "Djd5DtPe9sQw"
      },
      "execution_count": null,
      "outputs": []
    },
    {
      "cell_type": "markdown",
      "source": [
        "## Pregunta 15\n",
        "> Escribe un programa que calcule el valor de a + aa + aaa + aaaa donde los dígitos son el valor de a. Suponga que se recibe 9, entonces el resultado debe ser 11106. \n",
        "\n",
        "Basta con unir el string recibido y después convertirlos a números para poder computarlos."
      ],
      "metadata": {
        "id": "Kv37BCUX_AH9"
      }
    },
    {
      "cell_type": "code",
      "source": [],
      "metadata": {
        "id": "G1awtmilArDi"
      },
      "execution_count": null,
      "outputs": []
    },
    {
      "cell_type": "code",
      "source": [
        "digito = input()\n",
        "suma = 0\n",
        "for i in range(1, 5): # Tiene que comenzar en 1, porque el 0 genera \"\", lo que no puede operar int()\n",
        "  suma = suma + int(i*digito,10)\n",
        "print(suma)\n"
      ],
      "metadata": {
        "colab": {
          "base_uri": "https://localhost:8080/"
        },
        "id": "2rBdCdcU-_pr",
        "outputId": "0433a5dd-5510-46de-b607-e18b8cd3933c"
      },
      "execution_count": 47,
      "outputs": [
        {
          "output_type": "stream",
          "name": "stdout",
          "text": [
            "12\n",
            "12243648\n"
          ]
        }
      ]
    }
  ]
}