{
  "nbformat": 4,
  "nbformat_minor": 0,
  "metadata": {
    "colab": {
      "provenance": [],
      "authorship_tag": "ABX9TyO8xyYzEP+Dvhl3wS4unnqR",
      "include_colab_link": true
    },
    "kernelspec": {
      "name": "python3",
      "display_name": "Python 3"
    },
    "language_info": {
      "name": "python"
    }
  },
  "cells": [
    {
      "cell_type": "markdown",
      "metadata": {
        "id": "view-in-github",
        "colab_type": "text"
      },
      "source": [
        "<a href=\"https://colab.research.google.com/github/Czeu/ReBook/blob/main/Python_repaso.ipynb\" target=\"_parent\"><img src=\"https://colab.research.google.com/assets/colab-badge.svg\" alt=\"Open In Colab\"/></a>"
      ]
    },
    {
      "cell_type": "markdown",
      "source": [
        "# Práctica \n",
        "La mejor manera de aprender algo es aplicándolo, porque tienes que invertir una gran atención y energía. Necesitas recordar las bases y como piezas, transformarlas en soluciones que encajen en los problemas que se te presentan. \n",
        "\n",
        "**Mejores Técnicas de estudio**\n",
        "\n",
        "*   Repaso activo (Active Recall)\n",
        "*   Repetición espaciada (Spaced Repetition)\n",
        "*   Pomodoro\n",
        "*   Método Feynman\n",
        "\n",
        "El repaso activo es similar a hacer un examen o tener una práctica. El cerebro debe ser capaz de recordar la información y manipularla para un fin. \n",
        "\n",
        "Mientras que la repetición espaciada es repasar cada cierto tiempo para lidiar con la curva del olvido. \n",
        "\n",
        "La técnica pomodor pide poner atención por un intervalo de 25 minutos, aproximadamente, y entonces tomar un descanso; porque así podemos trabajar con una mejor calidad de concentración y energía mental. \n",
        "\n",
        "El método Feynman es una especie de Active recall donde te enfocas en enseñar lo que sabes. Lo mismo que hago en este momento. \n",
        "Me enfrentaré a las preguntas que propone el usuario [ Rishabh](https://github.com/darkprinx/break-the-ice-with-python/blob/master/Status/Day%201.md) para guiar la práctica y mis notas sobre Python.\n",
        "\n"
      ],
      "metadata": {
        "id": "hRR_LpE2hKnA"
      }
    },
    {
      "cell_type": "markdown",
      "source": [
        "## Método\n",
        "\n",
        "En cada pregunta intentaré explicar los conocimientos básicos que se necesitan para resolverlas y entonces daré una solución."
      ],
      "metadata": {
        "id": "fzo1K0-8kApN"
      }
    },
    {
      "cell_type": "markdown",
      "source": [
        "## Pregunta 1\n",
        "\n",
        "> Write a program which will find all such numbers which are divisible by 7 but are not a multiple of 5, between 2000 and 3200 (both included).The numbers obtained should be printed in a comma-separated sequence on a single line.\n"
      ],
      "metadata": {
        "id": "NceGBbyXjz2G"
      }
    },
    {
      "cell_type": "markdown",
      "source": [
        "Python nos permite manejar diferentes tipos de datos, como los números enteros. Además datos integrados como las listas o diccionarios. En este caso podemos crear el listado de los números a revisar y entonces poner uno a uno a prueba. Por lo que usamos el condicional if y un ciclo for para revisar cada caso. Para tenerminar necesitamos la operación módulo, que devuelve el residuo de la división entre dos números.* \n",
        "\n",
        "*Alternativamente podemos hacer list comprehension para crear dos conjuntos y entonces hacer una diferencia"
      ],
      "metadata": {
        "id": "93E79aMPkSfG"
      }
    },
    {
      "cell_type": "code",
      "source": [
        "\n",
        "x7 = [x for x in range(2000, 3201) if x % 7 ==0]\n",
        "x5 = [x for x in range(2000, 3201) if x % 5 ==0]\n",
        "x = set(x7) - set(x5)\n"
      ],
      "metadata": {
        "id": "Ui0VpIOzjzS6"
      },
      "execution_count": 12,
      "outputs": []
    },
    {
      "cell_type": "markdown",
      "source": [
        "## Question 2\n",
        "\n",
        "\n",
        "> Write a program which can compute the factorial of a given numbers.The results should be printed in a comma-separated sequence on a single line.Suppose the following input is supplied to the program: 8 Then, the output should be:40320\n",
        "\n"
      ],
      "metadata": {
        "id": "gz96Krg2nNdG"
      }
    },
    {
      "cell_type": "markdown",
      "source": [
        "La forma clásica es usando iteración de funciones por la naturaleza del factorial que multiplica todo lo anterior por algo más. También puede ser con un ciclo y almacenando en cada paso la información previa y multiplicar por el nuevo número."
      ],
      "metadata": {
        "id": "yT8BTo_AnT9a"
      }
    },
    {
      "cell_type": "code",
      "source": [
        "def factorial(x):\n",
        "  if x == 0:\n",
        "    return 1 ## Porque es un caso especial\n",
        "  return x * factorial(x-1)\n",
        "\n",
        "assert( factorial(8) == 40320)"
      ],
      "metadata": {
        "id": "pFJA0xlIm7fe"
      },
      "execution_count": 16,
      "outputs": []
    },
    {
      "cell_type": "markdown",
      "source": [
        "## Question 3\n",
        "\n",
        "> With a given integral number n, write a program to generate a dictionary that contains $(i, i \\times i)$ such that is an integral number between 1 and n (both included). and then the program should print the dictionary.Suppose the following input is supplied to the program: 8\n"
      ],
      "metadata": {
        "id": "IKqtbYMvoj_x"
      }
    },
    {
      "cell_type": "markdown",
      "source": [
        "Los diccionarios son una excelente forma de almacenar información, donde cada valor tiene asociado una llave, por lo que no están ordenados como las listas. Además, los valores pueden ser heterogeneas, listas, diccionarios, etc.\n",
        "\n",
        "La forma más rápida es usando una comprehensión de diccionario. Pero como pide que sea para algún número dado debemos recibir el valor con *input()*\n"
      ],
      "metadata": {
        "id": "VlC0pGlopACn"
      }
    },
    {
      "cell_type": "code",
      "source": [
        "try:\n",
        "  n = int(input()) # Si el usuario no da un número dará un error. \n",
        "except:\n",
        "  print(\"No es un número\")  \n",
        "\n",
        "nxn = {i: i*i for i in range(1, n+1)}\n",
        "print(nxn)\n"
      ],
      "metadata": {
        "colab": {
          "base_uri": "https://localhost:8080/"
        },
        "id": "wkbSCvV5oW_D",
        "outputId": "dbd838bb-0943-453d-f7ec-715d73f679a1"
      },
      "execution_count": 24,
      "outputs": [
        {
          "output_type": "stream",
          "name": "stdout",
          "text": [
            "3\n",
            "{1: 1, 2: 4, 3: 9}\n"
          ]
        }
      ]
    },
    {
      "cell_type": "markdown",
      "source": [
        "Una respuesta adicional. Ya no recordaba la forma usando *enumerate*, que permite llevar el recuento de la iteración, en este caso coincide con el valor de n."
      ],
      "metadata": {
        "id": "GTa2rzKsrYD6"
      }
    },
    {
      "cell_type": "code",
      "source": [
        "list(enumerate([i*i for i in range(1, n+1)], 1))\n",
        "dict(enumerate([i*i for i in range(1, n+1)], 1)) # El 1 es para indicar el inicio en 1 y no en default = 0"
      ],
      "metadata": {
        "colab": {
          "base_uri": "https://localhost:8080/"
        },
        "id": "_sXbrRyjp22c",
        "outputId": "383ce6cb-56ae-45dc-fa8c-2afba65a04a6"
      },
      "execution_count": 33,
      "outputs": [
        {
          "output_type": "execute_result",
          "data": {
            "text/plain": [
              "{0: 1, 1: 4, 2: 9}"
            ]
          },
          "metadata": {},
          "execution_count": 33
        }
      ]
    },
    {
      "cell_type": "code",
      "source": [],
      "metadata": {
        "id": "oAGg0pSQsGLA"
      },
      "execution_count": null,
      "outputs": []
    }
  ]
}
