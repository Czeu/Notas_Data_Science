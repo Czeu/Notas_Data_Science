{
  "nbformat": 4,
  "nbformat_minor": 0,
  "metadata": {
    "colab": {
      "provenance": [],
      "authorship_tag": "ABX9TyPcakrD9ChXZn7HsAoJdGWy",
      "include_colab_link": true
    },
    "kernelspec": {
      "name": "python3",
      "display_name": "Python 3"
    },
    "language_info": {
      "name": "python"
    }
  },
  "cells": [
    {
      "cell_type": "markdown",
      "metadata": {
        "id": "view-in-github",
        "colab_type": "text"
      },
      "source": [
        "<a href=\"https://colab.research.google.com/github/Czeu/Notas_Data_Science/blob/main/Python_D%C3%ADa5.ipynb\" target=\"_parent\"><img src=\"https://colab.research.google.com/assets/colab-badge.svg\" alt=\"Open In Colab\"/></a>"
      ]
    },
    {
      "cell_type": "markdown",
      "source": [
        "## Pregunta 16\n",
        "\n",
        "\n",
        "> Use comprensión de lista para elevar al cuadrado cada número impar de una lista. La lista es la entrada de una secuencua separada por comas. Suponga que se introduce: “1,2,3,4,5,6,7,8,9”, entonces la saliada será “1,9,25,49,81”.\n",
        "\n",
        "Para usar comprensión de lista se genera una condición y un ciclo dentro de corchetes, entonces cada elemento generado pasa a ser parte de la lista. Sin embargo, no me gusta que los números estén tan pegados, lo normal es que sea coma y un espacio.\n",
        "\n"
      ],
      "metadata": {
        "id": "Km9qJNecDJXF"
      }
    },
    {
      "cell_type": "code",
      "execution_count": 10,
      "metadata": {
        "colab": {
          "base_uri": "https://localhost:8080/"
        },
        "id": "qJuxaMgnCW9C",
        "outputId": "8cead3dc-33ce-4bf9-998e-0c3cb9c81cb1"
      },
      "outputs": [
        {
          "output_type": "stream",
          "name": "stdout",
          "text": [
            "1, 2, 3, 4\n",
            "1, 4, 9, 16\n"
          ]
        }
      ],
      "source": [
        "secuencia = input().split(\", \")\n",
        "cuadrados = [str(int(x)**2) for x in secuencia]\n",
        "print(\", \".join(cuadrados))"
      ]
    },
    {
      "cell_type": "markdown",
      "source": [
        "## Pregunta 17\n",
        "\n",
        "> Escriba un programa que calcule el siguiente monto de una cuenta de banco basada en transacciones desde la entrada de la consola. Las transacciones tienen el siguiente formato: D 100, W 200. Donde D significa depósito, mientras W es retiro.\n",
        "\n",
        "Prácticamente, es una calculadora que suma o resta, teniendo como condicionante la primera letra. Podemos dividir la entrada de texto por un espacio y generar una tupla, las cuales guardamos en una lista. Entonces revisamos el primer elemento de cada tupla para decidir qué hacer con el monto.\n"
      ],
      "metadata": {
        "id": "C0RpG1FvFF40"
      }
    },
    {
      "cell_type": "code",
      "source": [
        "transacciones = []\n",
        "monto = 0\n",
        "while True:\n",
        "  try:\n",
        "    tipo, monto = input().split()\n",
        "    if tipo.upper() == \"D\":\n",
        "      transacciones.append((tipo.upper(), int(monto)))\n",
        "    elif tipo.upper() == \"W\":\n",
        "      transacciones.append((tipo.upper(), -int(monto)))\n",
        "  except:\n",
        "    monto = sum([i[1] for i in transacciones])\n",
        "    print(f\"Saldo: {monto}\")\n",
        "    break"
      ],
      "metadata": {
        "colab": {
          "base_uri": "https://localhost:8080/"
        },
        "id": "Whf_ZPWgFTUh",
        "outputId": "5299180a-ac39-417f-80c4-f9f099bf9f35"
      },
      "execution_count": 14,
      "outputs": [
        {
          "output_type": "stream",
          "name": "stdout",
          "text": [
            "d 200\n",
            "w 433\n",
            "d 323\n",
            "w 122\n",
            "\n",
            "Saldo: -32\n"
          ]
        }
      ]
    },
    {
      "cell_type": "code",
      "source": [
        "transacciones\n"
      ],
      "metadata": {
        "colab": {
          "base_uri": "https://localhost:8080/"
        },
        "id": "WKDgPoA3DhgG",
        "outputId": "e4f0b78e-013c-4dc1-d5f7-0c43c507785c"
      },
      "execution_count": 15,
      "outputs": [
        {
          "output_type": "execute_result",
          "data": {
            "text/plain": [
              "[('D', 200), ('W', -433), ('D', 323), ('W', -122)]"
            ]
          },
          "metadata": {},
          "execution_count": 15
        }
      ]
    },
    {
      "cell_type": "code",
      "source": [],
      "metadata": {
        "id": "QX_rDgjPFgY1"
      },
      "execution_count": null,
      "outputs": []
    }
  ]
}