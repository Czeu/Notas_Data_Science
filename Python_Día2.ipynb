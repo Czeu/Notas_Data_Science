{
  "nbformat": 4,
  "nbformat_minor": 0,
  "metadata": {
    "colab": {
      "provenance": [],
      "authorship_tag": "ABX9TyMAuoBT4/s8GVd8FmsJSRDz",
      "include_colab_link": true
    },
    "kernelspec": {
      "name": "python3",
      "display_name": "Python 3"
    },
    "language_info": {
      "name": "python"
    }
  },
  "cells": [
    {
      "cell_type": "markdown",
      "metadata": {
        "id": "view-in-github",
        "colab_type": "text"
      },
      "source": [
        "<a href=\"https://colab.research.google.com/github/Czeu/Notas_Data_Science/blob/main/Python_D%C3%ADa2.ipynb\" target=\"_parent\"><img src=\"https://colab.research.google.com/assets/colab-badge.svg\" alt=\"Open In Colab\"/></a>"
      ]
    },
    {
      "cell_type": "markdown",
      "source": [
        "## Pregunta 4\n",
        "\n",
        "\n",
        "> Escribe un programa que acepte una secuencia de números separados por coma desde la consola, y genere una lista y una tupla que contenga cada uno de los números. Soponga que se introduce `34, 67, 55, 33, 12, 98`, entonces la salida debe ser:`['34', '67', '55', '33', '12', '98'] ('34', '67', '55', '33', '12', '98')`\n",
        "\n",
        "\n",
        "\n",
        "\n",
        "\n"
      ],
      "metadata": {
        "id": "TjmuK5mFckgf"
      }
    },
    {
      "cell_type": "markdown",
      "source": [
        "Es necesario usar la función `input()` para obtener el texto de entrada. Entonces usar el método `split()` que permite dividir una cadena de caracteres, por default divide cada espacio, pero se  puede elegir cual elemento servirá como divisor, en este caso la coma. Entonces se guarda el resultado que es una lista. Por último faltaría crear la tupla al convertir la lista con `tuple()`.\n",
        "\n",
        "\n"
      ],
      "metadata": {
        "id": "nQmPHd7Vd2KL"
      }
    },
    {
      "cell_type": "code",
      "execution_count": 2,
      "metadata": {
        "colab": {
          "base_uri": "https://localhost:8080/"
        },
        "id": "XV6KRqbZcS89",
        "outputId": "5721c889-e32b-4fe1-c337-6c0cdacc1246"
      },
      "outputs": [
        {
          "output_type": "stream",
          "name": "stdout",
          "text": [
            "Introduzca una lista de números separados por coma >> 21, 213, 23\n",
            "['21', ' 213', ' 23']\n",
            "('21', ' 213', ' 23')\n"
          ]
        }
      ],
      "source": [
        "lista = input(\"Introduzca una lista de números separados por coma >> \").split(\",\")\n",
        "tupla = tuple(lista)\n",
        "print(lista)\n",
        "print(tupla)"
      ]
    },
    {
      "cell_type": "markdown",
      "source": [
        "## Pregunta 5\n",
        "\n",
        "\n",
        "\n",
        "> Defina una clase que tenga al menos dos métodos:\n",
        "  - getString: Obtiene un string desde la entrada de la consola\n",
        "  - printString: Imprime el string en mayúsculas\n",
        "  \n",
        "> Por favor incluya una prueba simple de la función de prueba simple para probar los métodos de clase\n",
        "\n",
        "\n",
        "\n",
        "\n",
        "\n",
        "\n",
        "\n",
        "\n",
        "Para crear una clase es necesario declararla con `class`. A continuación se le puede agregar diferentes funciones, en este caso tres: init, getString y printString. Donde init inicia los atributos del objeto.\n",
        "Entonces guardaremos la entrada en la variable self de la clase y entonces aplicaremos el método `upper()` para volver en mayúsculas los caracteres.\n",
        "\n",
        "Para probarla creamos un objeto de la clase que creamos y ejecutamos sus métodos.\n"
      ],
      "metadata": {
        "id": "ErlIoPrWfrar"
      }
    },
    {
      "cell_type": "code",
      "source": [
        "class pregunta5:\n",
        "  def __init__(self):\n",
        "    pass\n",
        "  \n",
        "  def getString(self):\n",
        "    self.entrada = input()\n",
        "  \n",
        "  def printString(self):\n",
        "    print(self.entrada.upper())\n",
        "\n",
        "prueba5 = pregunta5()\n",
        "prueba5.getString()\n",
        "prueba5.printString()"
      ],
      "metadata": {
        "colab": {
          "base_uri": "https://localhost:8080/"
        },
        "id": "p87BK0jJfhJG",
        "outputId": "13e114c1-b59f-45b0-9788-358d14cfe65d"
      },
      "execution_count": 4,
      "outputs": [
        {
          "output_type": "stream",
          "name": "stdout",
          "text": [
            "saShsaSASAS\n",
            "SASHSASASAS\n"
          ]
        }
      ]
    },
    {
      "cell_type": "markdown",
      "source": [
        "## Pregunta 6\n",
        "\n",
        "\n",
        "> Escriba un programa que calcule e  imprima el valor según la siguiente formula: \n",
        "$$Q= \\sqrt{\\frac{2*C*D}{H}}$$\n",
        "Donde C y H son valores conocidos. C es 50 y H es 30.\n",
        "D es una variable cuto valor debería ser obtenida por el programa como una secuencia separada por comas. Por ejemplo, supongamos es: 100, 150, 180. Entonces la salida será 18, 22, 24.\n",
        "\n",
        "Como la entrada del programa serán caracteres, entonces hay que convertirlo a enteros o flotantes para poder usar la ecuación que será una función en el programa. Y para poder tener resultados enteros, basta con convertirlos en enteros o bien usar la función `round()` que redondea un valor. Para terminar se puede usar f-strings para imprimir la respuesta. Sin embargo como no sabemos cuantos elementos serán, es más útil crear el string con todos los elementos de D usando el método `join()`."
      ],
      "metadata": {
        "id": "EoSu-TZ4pD-m"
      }
    },
    {
      "cell_type": "code",
      "source": [
        "from math import sqrt\n",
        "C = 50\n",
        "H = 30\n",
        "\n",
        "def ecuacion(D):\n",
        "  return sqrt((2*C*D)/H)\n",
        "\n",
        "D = [float(i) for i in input('Introduzca una secuencia de números').split(',')]\n",
        "D = [ecuacion(i) for i in D]\n",
        "D = [int(i) for i in D]\n",
        "D = [str(i) for i in D]\n",
        "print(','.join(D))\n"
      ],
      "metadata": {
        "colab": {
          "base_uri": "https://localhost:8080/"
        },
        "id": "Q1yREYH5mtea",
        "outputId": "cf774767-9343-47c1-e8d8-632482f6fbb8"
      },
      "execution_count": 8,
      "outputs": [
        {
          "output_type": "stream",
          "name": "stdout",
          "text": [
            "Introduzca una secuencia de números100, 150, 180\n",
            "18,22,24\n"
          ]
        }
      ]
    },
    {
      "cell_type": "code",
      "source": [
        "## En una sola línea\n",
        "print(','.join([str(int(ecuacion(float(i)))) for i in input().split(',')]))"
      ],
      "metadata": {
        "colab": {
          "base_uri": "https://localhost:8080/"
        },
        "id": "eGWvpCW_reps",
        "outputId": "8ca00886-9a0d-4370-ef35-ad2a98ba6f56"
      },
      "execution_count": 11,
      "outputs": [
        {
          "output_type": "stream",
          "name": "stdout",
          "text": [
            "Introduzca una secuencia de números100, 150, 180\n",
            "18,22,24\n"
          ]
        }
      ]
    },
    {
      "cell_type": "markdown",
      "source": [
        "## Pregunta 7\n",
        "\n",
        "\n",
        "> Escriba un programa que tome 2 dígitos, $X, Y$ como entrada y genere una matriz bidimensional. El valor del elemento en la fila i-ésima y la columna j-ésima de la matriz debe ser $i \\times j$.\n",
        "\n",
        "\n",
        "\n",
        "> Nota: $i=0,1..., X-1$; $j=0,1...,Y-1$. Supongamos que se dan las siguientes entradas al programa: 3,5.\n",
        "Entonces, la salida del programa debe ser:$[[0, 0, 0, 0, 0], [0, 1, 2, 3, 4], [0, 2, 4, 6, 8]]$\n",
        "\n",
        "El programa debe recibir dos números y generar X listas de longitud Y. Entonces en cada ij posición multiplicar el valor i y j. "
      ],
      "metadata": {
        "id": "8mtYgIatsGun"
      }
    },
    {
      "cell_type": "markdown",
      "source": [],
      "metadata": {
        "id": "v2Hwb2A3tl1P"
      }
    },
    {
      "cell_type": "code",
      "source": [
        "X, Y = input().split(',')\n",
        "X, Y = int(X), int(Y)\n",
        "listas = [] ## la lista de listas\n",
        "for i in range(0, X):\n",
        "  fila = [] # cada fila\n",
        "  for j in range(0, Y):\n",
        "    fila.append(i * j)\n",
        "  listas.append(fila) # agregamos la fila a la lista de listas\n",
        "\n",
        "print(listas)\n"
      ],
      "metadata": {
        "colab": {
          "base_uri": "https://localhost:8080/"
        },
        "id": "G1m7BVcwqKU0",
        "outputId": "8bd06607-178d-4f68-97dc-f19c31f696b9"
      },
      "execution_count": 13,
      "outputs": [
        {
          "output_type": "stream",
          "name": "stdout",
          "text": [
            "3, 5\n",
            "[[0, 0, 0, 0, 0], [0, 1, 2, 3, 4], [0, 2, 4, 6, 8]]\n"
          ]
        }
      ]
    },
    {
      "cell_type": "code",
      "source": [
        "## Usando pandas para ver mejor el arreglo \n",
        "import pandas as pd\n",
        "data = pd.array(listas)\n",
        "print(pd.DataFrame(data))"
      ],
      "metadata": {
        "colab": {
          "base_uri": "https://localhost:8080/"
        },
        "id": "27jXIZFOvMc8",
        "outputId": "554624d8-c63f-460d-c1d3-6615b4343c8b"
      },
      "execution_count": 17,
      "outputs": [
        {
          "output_type": "stream",
          "name": "stdout",
          "text": [
            "   0  1  2  3  4\n",
            "0  0  0  0  0  0\n",
            "1  0  1  2  3  4\n",
            "2  0  2  4  6  8\n"
          ]
        }
      ]
    },
    {
      "cell_type": "markdown",
      "source": [
        "## Pregunta 8\n",
        "\n",
        "> Escribe un programa que acepte una secuencia separada por comas de palabras como entrada e imprime las palabras en una secuencia separada por comas en orden alfabético.\n",
        "\n",
        "Es tan fácil como recibir la lista de palabras, separarla, entonces se genera una lista que tiene el método `sort()`, lo que devuelve una lista ordenada que ya puede ser impresa y juntada con `join()`"
      ],
      "metadata": {
        "id": "po9UqrHXv1zQ"
      }
    },
    {
      "cell_type": "code",
      "source": [
        "entrada = input().split(',')\n",
        "entrada.sort() ## Modifica la lista original a diferencia de la función sorted\n",
        "print(\",\".join(entrada))"
      ],
      "metadata": {
        "colab": {
          "base_uri": "https://localhost:8080/"
        },
        "id": "8PjmamCqvc-a",
        "outputId": "75ac7c11-f6c9-4b81-b233-e88a9ec9792a"
      },
      "execution_count": 23,
      "outputs": [
        {
          "output_type": "stream",
          "name": "stdout",
          "text": [
            "sas,fas\n",
            "fas,sas\n"
          ]
        }
      ]
    },
    {
      "cell_type": "code",
      "source": [
        "entrada = \" \"\n",
        "while entrada != \"ESC\":\n",
        "  entrada = input('\"Esc\" para salir ').upper()"
      ],
      "metadata": {
        "id": "MTse10VRwzyz"
      },
      "execution_count": null,
      "outputs": []
    },
    {
      "cell_type": "code",
      "source": [
        "entrada = \"inicial\"\n",
        "listas = []\n",
        "while entrada != \"\":\n",
        "  entrada = input()\n",
        "  listas.append(entrada)\n",
        "\n",
        "for line in listas:\n",
        "  print(line.upper())"
      ],
      "metadata": {
        "id": "Qzdv4k78yov9"
      },
      "execution_count": null,
      "outputs": []
    },
    {
      "cell_type": "code",
      "source": [],
      "metadata": {
        "id": "mPA3_YUPzCtU"
      },
      "execution_count": null,
      "outputs": []
    }
  ]
}