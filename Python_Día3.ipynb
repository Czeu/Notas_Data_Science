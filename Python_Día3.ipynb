{
  "nbformat": 4,
  "nbformat_minor": 0,
  "metadata": {
    "colab": {
      "provenance": [],
      "authorship_tag": "ABX9TyMGmEXzId1I5XIoQP4iProc",
      "include_colab_link": true
    },
    "kernelspec": {
      "name": "python3",
      "display_name": "Python 3"
    },
    "language_info": {
      "name": "python"
    }
  },
  "cells": [
    {
      "cell_type": "markdown",
      "metadata": {
        "id": "view-in-github",
        "colab_type": "text"
      },
      "source": [
        "<a href=\"https://colab.research.google.com/github/Czeu/Notas_Data_Science/blob/main/Python_D%C3%ADa3.ipynb\" target=\"_parent\"><img src=\"https://colab.research.google.com/assets/colab-badge.svg\" alt=\"Open In Colab\"/></a>"
      ]
    },
    {
      "cell_type": "markdown",
      "source": [
        "## Pregunta 10\n",
        "\n",
        ">Escribe un programa que acepte como entrada una secuencia de palabras separadas por espacios en blanco y entonces imprímalas palabras después de eliminar las que están duplicadas mientras las ordena alfanuméricamente. \n",
        "\n",
        "Basta con usar la función `split()` por default y hacer una lista, pasarla a un conjunto para que elimine las palabras duplicadas, regresarlo a una lista y entonces ordenarla con `sort()`.\n",
        "\n"
      ],
      "metadata": {
        "id": "rTyr63jFZG0c"
      }
    },
    {
      "cell_type": "code",
      "source": [
        "palabras = input().split()\n",
        "palabras = list(set(palabras))\n",
        "palabras.sort()\n",
        "print(' '.join(palabras))"
      ],
      "metadata": {
        "id": "ajOKcGn8Zy5T"
      },
      "execution_count": null,
      "outputs": []
    },
    {
      "cell_type": "markdown",
      "source": [
        "## Pregunta 11\n",
        "\n",
        "\n",
        "> Escribe un programa que acepte como entrada una secuencia de cuatro dígitos binarios separados por comas. Entonces revisar si son divisibles por cinco o no. Si son divisibles, el programa tiene que imprimir los números separados por comas.\n",
        "\n",
        "La idea es transformar los números en binario a decimal y aplicar módulo para verificar si son divisibles por cinco. Para esto puede servir una función. Y para no tener que transformarlos de regreso, podemos quedarnos con el número original y aceptarlo si su versión decimal cumple."
      ],
      "metadata": {
        "id": "m6QKh3wKaxiK"
      }
    },
    {
      "cell_type": "code",
      "source": [
        "numbers = input().split(',')\n",
        "def BinToDec(binario):\n",
        "  binario = str(binario)\n",
        "  decimal = sum([int(binario[i])*2**int(i+1) for i in range(0, len(binario))])\n",
        "  return decimal\n",
        "\n",
        "divisibles5 = []\n",
        "for number in numbers:\n",
        "  if BinToDec(number) % 5 ==0:\n",
        "    divisibles5.append(number)\n",
        "print(','.join(divisibles5))"
      ],
      "metadata": {
        "colab": {
          "base_uri": "https://localhost:8080/"
        },
        "id": "i3JezhlcbmcY",
        "outputId": "97ef302d-82a7-475b-9ad6-cf184f7d45df"
      },
      "execution_count": 32,
      "outputs": [
        {
          "output_type": "stream",
          "name": "stdout",
          "text": [
            "0100,0011,1010,1001\n",
            "1010\n"
          ]
        }
      ]
    },
    {
      "cell_type": "markdown",
      "source": [
        "Alternativamente se puede usar la función `int()` dandole el parametro 2, para indicarle que el número está en binario. Lo que nos devolverá el número en decimal."
      ],
      "metadata": {
        "id": "Cby9fjfYe6jb"
      }
    },
    {
      "cell_type": "code",
      "source": [
        "numbers = input().split(',')\n",
        "divisibles5 = []\n",
        "for number in numbers:\n",
        "  if int(number, 2) % 5 ==0:\n",
        "    divisibles5.append(number)\n",
        "print(','.join(divisibles5))"
      ],
      "metadata": {
        "colab": {
          "base_uri": "https://localhost:8080/"
        },
        "id": "osj1DIybfT_A",
        "outputId": "facb1883-25b5-4ae9-fccd-962c77b2bc97"
      },
      "execution_count": 33,
      "outputs": [
        {
          "output_type": "stream",
          "name": "stdout",
          "text": [
            "1010\n"
          ]
        }
      ]
    },
    {
      "cell_type": "markdown",
      "source": [
        "## Pregunta 12\n",
        "\n",
        "\n",
        "> Escribe un programa, el cual encuentre todos los números entre 1000 y 3000 (ambos incluidos) tales que cada dígito del número son pares. Los números obtenidos deben ser impresos separados por comas en una sola línea. \n",
        "\n",
        "Necesitamos revisar con un ciclo todos los números. Se puede tomar cada número y usar como un string, entonces revisar cada dígito con otro ciclo, y al convertirlo en un entero comprobar si es divisible con módulo. Entonces, si para todos sus dígitos se cumple que sean pares, almacenamos el número.\n",
        "\n"
      ],
      "metadata": {
        "id": "KJ_zjwOhgNwe"
      }
    },
    {
      "cell_type": "code",
      "execution_count": 39,
      "metadata": {
        "id": "7C6v6XSIYRPu"
      },
      "outputs": [],
      "source": [
        "elegidos = []\n",
        "for i in range(1000, 3001):\n",
        "  flag = 0\n",
        "  for j in str(i):\n",
        "    if int(j) % 2 == 0:\n",
        "      flag += 1\n",
        "    if flag == 4:\n",
        "      elegidos.append(i)"
      ]
    },
    {
      "cell_type": "code",
      "source": [
        "print(elegidos)"
      ],
      "metadata": {
        "colab": {
          "base_uri": "https://localhost:8080/"
        },
        "id": "n5m2GTTzdMDI",
        "outputId": "f46445e3-e1ce-4ca5-e044-ed0cfe1b1041"
      },
      "execution_count": 40,
      "outputs": [
        {
          "output_type": "stream",
          "name": "stdout",
          "text": [
            "[2000, 2002, 2004, 2006, 2008, 2020, 2022, 2024, 2026, 2028, 2040, 2042, 2044, 2046, 2048, 2060, 2062, 2064, 2066, 2068, 2080, 2082, 2084, 2086, 2088, 2200, 2202, 2204, 2206, 2208, 2220, 2222, 2224, 2226, 2228, 2240, 2242, 2244, 2246, 2248, 2260, 2262, 2264, 2266, 2268, 2280, 2282, 2284, 2286, 2288, 2400, 2402, 2404, 2406, 2408, 2420, 2422, 2424, 2426, 2428, 2440, 2442, 2444, 2446, 2448, 2460, 2462, 2464, 2466, 2468, 2480, 2482, 2484, 2486, 2488, 2600, 2602, 2604, 2606, 2608, 2620, 2622, 2624, 2626, 2628, 2640, 2642, 2644, 2646, 2648, 2660, 2662, 2664, 2666, 2668, 2680, 2682, 2684, 2686, 2688, 2800, 2802, 2804, 2806, 2808, 2820, 2822, 2824, 2826, 2828, 2840, 2842, 2844, 2846, 2848, 2860, 2862, 2864, 2866, 2868, 2880, 2882, 2884, 2886, 2888]\n"
          ]
        }
      ]
    },
    {
      "cell_type": "markdown",
      "source": [
        "Otra forma interesante de hacerlo es usando una función que revise y devuelva verdadero o falso, si todos los dígitos cumplen. O bien, dentro del ciclo usando una función lambda."
      ],
      "metadata": {
        "id": "AcnC7vKcicf_"
      }
    },
    {
      "cell_type": "markdown",
      "source": [
        "## Pregunta 13\n",
        "\n",
        "\n",
        "> Escribe un programa que acepte una sentencia y calcule el número de letras y dígitos. \n",
        "\n",
        "Podemos revisar el string, elemento a elemento y llevar un conteo cuando sea una letra o un número. Para eso se puede crear dos conjuntos, uno con todas las letras y otro con todos los números, entonces usar la función `in`. También existe el método `isalpha()` y el método `isnumeric()`. Otra forma de pensarlo es comparar el elemento, porque los strings tienen un valor  ASCII, donde todas las letras están juntas, al igual que los dígitos del 0 al 9.\n",
        "\n"
      ],
      "metadata": {
        "id": "mkf0l2PMk1l3"
      }
    },
    {
      "cell_type": "code",
      "source": [
        "palabras = input()\n",
        "letras, numeros = 0, 0\n",
        "\n",
        "for elemento in palabras:\n",
        "  if elemento.isalpha():\n",
        "    letras += 1\n",
        "  elif elemento.isnumeric():\n",
        "    numeros += 1\n",
        "print(letras, numeros)"
      ],
      "metadata": {
        "id": "l_nnoFLcmPrv"
      },
      "execution_count": null,
      "outputs": []
    },
    {
      "cell_type": "code",
      "source": [],
      "metadata": {
        "id": "1zWGrjE6k01K"
      },
      "execution_count": null,
      "outputs": []
    }
  ]
}