{
  "nbformat": 4,
  "nbformat_minor": 0,
  "metadata": {
    "colab": {
      "provenance": [],
      "authorship_tag": "ABX9TyNf3tdEWxke00ZBz1ypOtUV",
      "include_colab_link": true
    },
    "kernelspec": {
      "name": "python3",
      "display_name": "Python 3"
    },
    "language_info": {
      "name": "python"
    }
  },
  "cells": [
    {
      "cell_type": "markdown",
      "metadata": {
        "id": "view-in-github",
        "colab_type": "text"
      },
      "source": [
        "<a href=\"https://colab.research.google.com/github/Czeu/Notas_Data_Science/blob/main/Python_D%C3%ADa6.ipynb\" target=\"_parent\"><img src=\"https://colab.research.google.com/assets/colab-badge.svg\" alt=\"Open In Colab\"/></a>"
      ]
    },
    {
      "cell_type": "markdown",
      "source": [
        "## Pregunta 18\n",
        "> Un sitio web requiere que el usuario introduzca un nombre de usuario y una contraseña para registrarse. Escribe un programa que revise la validación de la contraseña por usuario. Debe seguir los siguientes criterios:\n",
        "\n",
        "- Al menos una letra entre [a-z]\n",
        "- Al menos un número entre [0-9]\n",
        "- Al menos una letra entre [A-Z}\n",
        "- Al menos un carácter entre [$#@]\n",
        "- Su longitud mínima para aceptar la contraseña es de 6\n",
        "- Su longitud máxima para aceptar la contraseña es de 12\n",
        "\n",
        "> Su programa debe aceptar una secuencia de contraseñas separadas por comas y revisarlas de acuerdo a los criterios. Las contraseñas que cumplen deben imprimirse, separadas por comas.\n",
        "\n",
        "Se necesita tener una forma de revisar cada uno de los requisitos. Los primeros tres se puede usar las funciones `isupper()` y `islower()` que automaticamente revisa si son letras. Para los números se usa `isnumeric()`. Alternativamente, se puede usar lógica para revisar que cada elemento esté en el rango a-z y A-Z. Para los caracteres especiales se puede revisar si es alguno de ellos o creando una lista con esos elementos y revisar si el elemento a revisar se encuentra en ella. Para la longitud basta con `len()`."
      ],
      "metadata": {
        "id": "j0x9FT8lQAZh"
      }
    },
    {
      "cell_type": "code",
      "execution_count": 47,
      "metadata": {
        "colab": {
          "base_uri": "https://localhost:8080/"
        },
        "id": "i1DaXH0mP9S3",
        "outputId": "953eda4f-d0c5-4444-f8be-996335309b6f"
      },
      "outputs": [
        {
          "output_type": "stream",
          "name": "stdout",
          "text": [
            "sthas3$aS, shhas, CGS$SA2, sashyw\n",
            "sthas3$aS\n"
          ]
        }
      ],
      "source": [
        "def requisitos(password):\n",
        "  numeric, upper, lower, caracter = 0, 0, 0, 0\n",
        "  for i in password:\n",
        "    if i.isnumeric():\n",
        "      numeric = 1\n",
        "    if i.isupper():\n",
        "      upper = 1\n",
        "    if i.islower():\n",
        "      lower = 1\n",
        "    if i in [\"$\",\"#\",\"@\"]:\n",
        "      caracter = 1\n",
        "  return all([numeric, upper, lower, caracter])\n",
        "\n",
        "passwords = input().split(\",\")\n",
        "aceptadas = []\n",
        "for password in passwords:\n",
        "  if 6<= len(password) <= 12:\n",
        "    if requisitos(password) == True:\n",
        "      aceptadas.append(password)\n",
        "print(\",\".join(aceptadas))\n"
      ]
    },
    {
      "cell_type": "markdown",
      "source": [
        "## Pregunta 19\n",
        "> Te piden que escribas un programa que ordenes la tupla (nombre, edad, puntuación) por orden ascendente, donde el nombre es un strig, la edad y el puntaje son números. Las tuplas son entradas desde la consola. El criterio para ordenarlas son: \n",
        "\n",
        "1. Ordenar con base al nombre\n",
        "2. Ordenar con base a la edad\n",
        "3. Ordenar con base al puntaje\n",
        "\n",
        "> Es decir, la prioridad es nombre > edad > puntaje\n",
        "\n",
        "Una vez almacenadas las tuplas, debemos acceder a los primeros elementos y entonces ordenarlos. Sort() permite ordenar los elementos de una lista. Mientras que sorted() ordena una secuencia de string, tuplas o listas, incluso diccionarios. Por lo que puede hacer todo el trabajo. En ambos casos se puede establecer un criterio con el atributo key(). Donde se puede usar una función definida o la función lambda."
      ],
      "metadata": {
        "id": "5pPdr5zWVayo"
      }
    },
    {
      "cell_type": "code",
      "source": [
        "tuplas = []\n",
        "while True:\n",
        "  entrada = input().split(\",\")\n",
        "  if not entrada[0]:\n",
        "    break\n",
        "  tuplas.append(tuple(entrada))\n",
        "\n",
        "print(sorted(tuplas))"
      ],
      "metadata": {
        "id": "DckEIS_pWfvH"
      },
      "execution_count": null,
      "outputs": []
    },
    {
      "cell_type": "code",
      "source": [
        "## Usando lambda para ordenar descendente la edad y las calificaciones\n",
        "tuplas = []\n",
        "while True:\n",
        "  entrada = input().split(\",\")\n",
        "  if not entrada[0]:\n",
        "    break\n",
        "  tuplas.append(tuple(entrada))\n",
        "\n",
        "print(sorted(tuplas, key=lambda x:(x[0], -int(x[1]), -int(x[2]))))"
      ],
      "metadata": {
        "id": "w8ul2402Y8TY"
      },
      "execution_count": null,
      "outputs": []
    },
    {
      "cell_type": "code",
      "source": [],
      "metadata": {
        "id": "iLF0rbx8Wh7C"
      },
      "execution_count": 57,
      "outputs": []
    }
  ]
}