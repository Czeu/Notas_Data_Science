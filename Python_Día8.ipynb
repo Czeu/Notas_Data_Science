{
  "nbformat": 4,
  "nbformat_minor": 0,
  "metadata": {
    "colab": {
      "provenance": [],
      "authorship_tag": "ABX9TyNY7q7zqLBzLVasw1y8jkyX",
      "include_colab_link": true
    },
    "kernelspec": {
      "name": "python3",
      "display_name": "Python 3"
    },
    "language_info": {
      "name": "python"
    }
  },
  "cells": [
    {
      "cell_type": "markdown",
      "metadata": {
        "id": "view-in-github",
        "colab_type": "text"
      },
      "source": [
        "<a href=\"https://colab.research.google.com/github/Czeu/Notas_Data_Science/blob/main/Python_D%C3%ADa8.ipynb\" target=\"_parent\"><img src=\"https://colab.research.google.com/assets/colab-badge.svg\" alt=\"Open In Colab\"/></a>"
      ]
    },
    {
      "cell_type": "markdown",
      "source": [
        "## Pregunta 22\n",
        "\n",
        "\n",
        "> Escriba un programa que calcule la frecuencia de las palabras de la entrada. La salida debe mostrar el resultado después de ordenar las palabras alfanuméricamente. \n",
        "\n",
        "Una manera de hacerlo es usando un diccionario, donde la llave es la palabra y su valor sería el conteo en cada una. Para eso es muy útil defaultdict, el cual generaría una entrada para cada palabra nueva. Pero sería más rápido si solo ordenamos la lista de palabras, eliminamos las duplicadas al hacerlo un conjunto. Entonces lo imprimimos ya ordenado, palabra a palabra, y este elemento contamos cuantas veces aparece en la lista original. \n"
      ],
      "metadata": {
        "id": "0_z6QH__rAEx"
      }
    },
    {
      "cell_type": "code",
      "execution_count": 3,
      "metadata": {
        "colab": {
          "base_uri": "https://localhost:8080/"
        },
        "id": "i5RtHpOIqDNj",
        "outputId": "7de70ce5-6fa0-4ffe-86f8-02699d193f30"
      },
      "outputs": [
        {
          "output_type": "stream",
          "name": "stdout",
          "text": [
            "New to Python or choosing between Python 2 and Python 3? Read Python 2 or Python 3.\n",
            "2 :  2\n",
            "3. :  1\n",
            "3? :  1\n",
            "New :  1\n",
            "Python :  5\n",
            "Read :  1\n",
            "and :  1\n",
            "between :  1\n",
            "choosing :  1\n",
            "or :  2\n",
            "to :  1\n"
          ]
        }
      ],
      "source": [
        "palabras = input().split()\n",
        "ordenadas = sorted(set(palabras))\n",
        "for i in ordenadas:\n",
        "  print(f\"{i} :  {palabras.count(i)}\")"
      ]
    },
    {
      "cell_type": "code",
      "source": [
        "from collections import defaultdict\n",
        "conteo = defaultdict(int)\n",
        "palabras = input().split()\n",
        "palabras.sort()\n",
        "for palabra in palabras:\n",
        "  conteo[palabra] += 1\n",
        "\n",
        "print(conteo)"
      ],
      "metadata": {
        "id": "mhyLtHN1rW2K"
      },
      "execution_count": null,
      "outputs": []
    },
    {
      "cell_type": "code",
      "source": [
        "conteo"
      ],
      "metadata": {
        "colab": {
          "base_uri": "https://localhost:8080/"
        },
        "id": "BEZ3848PscOV",
        "outputId": "07e6e5a2-62fe-4955-80a2-cd4423f7b820"
      },
      "execution_count": 10,
      "outputs": [
        {
          "output_type": "execute_result",
          "data": {
            "text/plain": [
              "defaultdict(int,\n",
              "            {'2': 2,\n",
              "             '3.': 1,\n",
              "             '3?': 1,\n",
              "             'New': 1,\n",
              "             'Python': 5,\n",
              "             'Read': 1,\n",
              "             'and': 1,\n",
              "             'between': 1,\n",
              "             'choosing': 1,\n",
              "             'or': 2,\n",
              "             'to': 1})"
            ]
          },
          "metadata": {},
          "execution_count": 10
        }
      ]
    },
    {
      "cell_type": "markdown",
      "source": [
        "## Pregunta 23\n",
        "\n",
        ">  Escriba un método que pueda calcular el cuadrado de un número dado.\n",
        "\n",
        "Solo recibimos el dato y usamos el operador potencia **"
      ],
      "metadata": {
        "id": "TcZtzygEtK7G"
      }
    },
    {
      "cell_type": "code",
      "source": [
        "numero = int(input())\n",
        "print(numero**2)\n"
      ],
      "metadata": {
        "colab": {
          "base_uri": "https://localhost:8080/"
        },
        "id": "ZBlQcnHWstJ1",
        "outputId": "9f0e6c79-fbfd-446d-82e8-d6880ea235b9"
      },
      "execution_count": 13,
      "outputs": [
        {
          "output_type": "stream",
          "name": "stdout",
          "text": [
            "23\n",
            "529\n"
          ]
        }
      ]
    },
    {
      "cell_type": "markdown",
      "source": [
        "## Pregunta 24\n",
        "\n",
        "> Python tiene muchas funciones, si no sabes qué hace cada uno, puedes leerlo en la documentación o en algún libro. Pero Python tiene una función para obtener la documentación de cada función ya hecha.\n",
        "Por favor escribe un programa que imprima la documentación de las funciones ya hechas, como `abs()`, `int()`, `rawinput()`\n",
        "\n",
        "> Entonces agrega documentación a una función propia.\n",
        "\n",
        "La forma de obtener la documentación de una función es usando el método doc. Mientras que para agregarla a una función es con triple comillas, para poder agregar un comentario extenso, el cual aparecerá cuando se llame el método doc."
      ],
      "metadata": {
        "id": "KvkKdowUu2HF"
      }
    },
    {
      "cell_type": "code",
      "source": [
        "print(abs.__doc__)\n",
        "print(\"\\n\")\n",
        "print(int.__doc__)"
      ],
      "metadata": {
        "colab": {
          "base_uri": "https://localhost:8080/"
        },
        "id": "5Q6yPGENu14N",
        "outputId": "88352f96-eda1-4fba-c35a-d448821a64e0"
      },
      "execution_count": 18,
      "outputs": [
        {
          "output_type": "stream",
          "name": "stdout",
          "text": [
            "Return the absolute value of the argument.\n",
            "\n",
            "\n",
            "int([x]) -> integer\n",
            "int(x, base=10) -> integer\n",
            "\n",
            "Convert a number or string to an integer, or return 0 if no arguments\n",
            "are given.  If x is a number, return x.__int__().  For floating point\n",
            "numbers, this truncates towards zero.\n",
            "\n",
            "If x is not a number or if base is given, then x must be a string,\n",
            "bytes, or bytearray instance representing an integer literal in the\n",
            "given base.  The literal can be preceded by '+' or '-' and be surrounded\n",
            "by whitespace.  The base defaults to 10.  Valid bases are 0 and 2-36.\n",
            "Base 0 means to interpret the base from the string as an integer literal.\n",
            ">>> int('0b100', base=0)\n",
            "4\n"
          ]
        }
      ]
    },
    {
      "cell_type": "code",
      "source": [
        "def saludame():\n",
        "  \"\"\"\n",
        "  Simplemente te imprime 'hola' en la pantalla.\n",
        "  \"\"\"\n",
        "  print(\"Hola\")\n",
        "\n",
        "print(saludame.__doc__)"
      ],
      "metadata": {
        "colab": {
          "base_uri": "https://localhost:8080/"
        },
        "id": "oUUbsev-udm7",
        "outputId": "8cd99813-a524-4647-d307-70ad973b7a3b"
      },
      "execution_count": 19,
      "outputs": [
        {
          "output_type": "stream",
          "name": "stdout",
          "text": [
            "\n",
            "  Simplemente te imprime 'hola' en la pantalla.\n",
            "  \n"
          ]
        }
      ]
    },
    {
      "cell_type": "markdown",
      "source": [
        "## Pregunta 25\n",
        "\n",
        "\n",
        "\n",
        "> Defina una clase, la cual tenga un parámetro de clase y tenga el mismo parámetro de instancia.\n",
        "\n",
        "Para esto es importante el método init que nos permite construir e iniciar la clase, donde podemos darle los parámetros iniciales. En mi caso haré una clase para países y sus parámetros serán su nombre e idioma.\n",
        "\n"
      ],
      "metadata": {
        "id": "8L_mUc7KwAFM"
      }
    },
    {
      "cell_type": "code",
      "source": [
        "class Pais:\n",
        "  nombre = \"país\"\n",
        "  idioma = \"inglés\"\n",
        "  def __init__(self, nombre=None, idioma=None):\n",
        "    self.nombre = nombre\n",
        "    self.idioma = idioma\n",
        "\n",
        "Mexico = Pais(\"México\", \"Español\")\n",
        "print(f\"El nombre del {Pais.nombre} es {Mexico.nombre} y su idioma es {Mexico.idioma}\")"
      ],
      "metadata": {
        "colab": {
          "base_uri": "https://localhost:8080/"
        },
        "id": "gWhUNtN8vZX6",
        "outputId": "f9b5d3ae-1ecc-4b9d-e270-51019de73091"
      },
      "execution_count": 24,
      "outputs": [
        {
          "output_type": "stream",
          "name": "stdout",
          "text": [
            "El nombre del país es México y su idioma es Español\n"
          ]
        }
      ]
    },
    {
      "cell_type": "code",
      "source": [],
      "metadata": {
        "id": "T_ZsBYUiwnXV"
      },
      "execution_count": null,
      "outputs": []
    }
  ]
}